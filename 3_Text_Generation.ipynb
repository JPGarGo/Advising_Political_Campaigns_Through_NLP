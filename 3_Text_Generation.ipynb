{
 "cells": [
  {
   "cell_type": "markdown",
   "metadata": {},
   "source": [
    "# Tweet and Speech Text Generation"
   ]
  },
  {
   "cell_type": "markdown",
   "metadata": {},
   "source": [
    "\n",
    "In the first script, we completed a sentiment analysis on Tweets to understand, in general, what is the sentiment of the Twitter community towards a specific topic (GOP Debate). We were able to extract insights such as which are the more-mentioned words and hashtags among negative and positive tweets. Then, in the previous script, we performed language modeling and Tweet generation using LSTMs to generalize and anticipate Twitter opinions on certain topics.\n",
    "\n",
    "However, as mentioned in the previous conclusion, considering that deep learning for speech modelling is computationally expensive, we considered using a different approach. In this script, we model Tweet Generation through *N-gram probabilities*. This approach is considerably faster and may also address our main objective of Tweet generalization and anticipation.\n",
    "\n",
    "Once the candidate's campaign team understands the Tweet Sentiment and Tweet Text Generation, the candidate and the campaign organizer have to tailor the campaign and future speeches in a manner that reflects the candidate's audience preference. For this second part of the notebook, we will also use Text Generation techniques based on historical speeches from different politicians that were previously elected. The output may serve as an initial brainstorming or guideline for speech creation. However, it is also important to consider who the speaker was, who the audience was, and in what macroeconomic environment the speeches took place. The Speech Generation output will serve as an initial suggestion that will have to be analyzed by campaign organizers.\n",
    "\n"
   ]
  },
  {
   "cell_type": "markdown",
   "metadata": {},
   "source": [
    "# 1. Tweet (Text) Generation"
   ]
  },
  {
   "cell_type": "markdown",
   "metadata": {},
   "source": [
    "## Importing and Processing Tweets\n",
    "\n",
    "Considering that Tweets are composed not only by words but also by special characters such as hashtags, usernames, urls, and emojis, we need to remove them to do a proper word counting and subsequent Text Generation. These characters do not add relevant information for our objectives of the Text Generation.\n",
    "\n",
    "We start by defining two functions. One that deletes special characters and one that deletes words that start with @ and #.\n"
   ]
  },
  {
   "cell_type": "code",
   "execution_count": 3,
   "metadata": {},
   "outputs": [],
   "source": [
    "import nltk\n",
    "from nltk import word_tokenize, WordPunctTokenizer\n",
    "import pandas\n",
    "\n",
    "wpt = WordPunctTokenizer()\n",
    "import re\n",
    "import string\n",
    "\n",
    "def strip_links(text):\n",
    "    link_regex    = re.compile('((https?):((//)|(\\\\\\\\))+([\\w\\d:#@%/;$()~_?\\+-=\\\\\\.&](#!)?)*)', re.DOTALL)\n",
    "    links         = re.findall(link_regex, text)\n",
    "    for link in links:\n",
    "        text = text.replace(link[0], ', ')    \n",
    "    return text\n",
    "\n",
    "def strip_all_entities(text):\n",
    "    entity_prefixes = ['@','#']\n",
    "    for separator in  string.punctuation:\n",
    "        if separator not in entity_prefixes :\n",
    "            text = text.replace(separator,' ')\n",
    "    words = []\n",
    "    for word in text.split():\n",
    "        word = word.strip()\n",
    "        if word:\n",
    "            if word[0] not in entity_prefixes:\n",
    "                words.append(word)\n",
    "    return ' '.join(words)"
   ]
  },
  {
   "cell_type": "markdown",
   "metadata": {},
   "source": [
    "We proceed to import the Tweets, preprocess them with the previously created functions, and tokenize them with the word tokenize function. "
   ]
  },
  {
   "cell_type": "code",
   "execution_count": 4,
   "metadata": {},
   "outputs": [
    {
     "data": {
      "text/plain": [
       "<Text: RT How did everyone feel about the Climate...>"
      ]
     },
     "execution_count": 4,
     "metadata": {},
     "output_type": "execute_result"
    }
   ],
   "source": [
    "tweets = open('tweets2.txt', encoding='utf8', errors='ignore')\n",
    "tweets_text = tweets.read()\n",
    "\n",
    "tweets_clean = strip_links(str(tweets_text))\n",
    "tweets_clean = strip_all_entities(tweets_clean)\n",
    "\n",
    "tweets_clean2 = nltk.Text(wpt.tokenize(tweets_clean))\n",
    "tweets_clean2"
   ]
  },
  {
   "cell_type": "markdown",
   "metadata": {},
   "source": [
    "## Text Generation Using N-gram Probabilities\n",
    "\n",
    "To generate text, we create a backoff strategy, similar to what we did in the practice assignment. This means that iteratively first we will try to generate a word based on a 4-gram probability. If it fails, based on a Tri-gram probability, if it fails, on a Bi-gram, and if it fails, it stops.\n",
    "\n",
    "The parameters for this function are the input training text, the initial words to start the sentence, and the length of the text to be generated."
   ]
  },
  {
   "cell_type": "code",
   "execution_count": 5,
   "metadata": {},
   "outputs": [],
   "source": [
    "def generate_text_backoff(text, initialwords, numwords):\n",
    "   \n",
    "    #ngrams\n",
    "    ngrams = list(nltk.ngrams(text, 4,  pad_right=True, pad_left=True))\n",
    "    ngram_pairs = (((w0, w1, w2), w3) for w0, w1, w2, w3 in ngrams)\n",
    "    cpdNgram = nltk.ConditionalProbDist(nltk.ConditionalFreqDist(ngram_pairs), nltk.MLEProbDist)\n",
    "\n",
    "    #trigram \n",
    "    trigrams = list(nltk.ngrams(text, 3,  pad_right=True, pad_left=True))\n",
    "    trigram_pairs = (((w0, w1), w2) for w0, w1, w2 in trigrams)\n",
    "    cpd3gram = nltk.ConditionalProbDist(nltk.ConditionalFreqDist(trigram_pairs), nltk.MLEProbDist)\n",
    "\n",
    "    #bigram\n",
    "    bigrams = list(nltk.ngrams(text, 2))\n",
    "    cpd2gram = nltk.ConditionalProbDist(nltk.ConditionalFreqDist(bigrams), nltk.MLEProbDist)\n",
    "    \n",
    "    \n",
    "    word = initialwords\n",
    "    for i in range(numwords):\n",
    "        #try n-gram\n",
    "        if (word[i],word[i+1], word[i+2]) in cpdNgram:\n",
    "            w = cpdNgram[(word[i],word[i+1], word[i+2])].max()\n",
    "        #try 3-gram\n",
    "        elif (word[i+1],word[i+2]) in cpd3gram:\n",
    "            w = cpd3gram[(word[i+1],word[i+2])].max()\n",
    "        #try 2-gram\n",
    "        elif word[i+2] in cpd2gram:\n",
    "            w = cpd2gram[word[i+2]].max()\n",
    "        #at least we tried...\n",
    "        else:\n",
    "            break\n",
    "            \n",
    "        word += [w]\n",
    "    \n",
    "    return \" \".join(word)"
   ]
  },
  {
   "cell_type": "markdown",
   "metadata": {},
   "source": [
    "## Generating Tweet-Related Opinions\n",
    "As an example, we will see which text is generated for a general topic such as the elections. The input words are \"The elections will\", and the expected outpus is the next 15 words. \n",
    "\n",
    "As we can see, the result is a negative reaction towards Hillary in debating.\n",
    "\n",
    "As another example, we imputed the words \"Trump is a\", generating the subsequent words \"Pure joke...\". "
   ]
  },
  {
   "cell_type": "code",
   "execution_count": 6,
   "metadata": {},
   "outputs": [
    {
     "name": "stdout",
     "output_type": "stream",
     "text": [
      "Tweets: the elections will be how to get Hillary sober long enough for her to debate RT A big\n"
     ]
    }
   ],
   "source": [
    "print(\"Tweets: \" + generate_text_backoff(tweets_clean2, [\"the\",\"elections\",\"will\"], 15))"
   ]
  },
  {
   "cell_type": "code",
   "execution_count": 7,
   "metadata": {},
   "outputs": [
    {
     "name": "stdout",
     "output_type": "stream",
     "text": [
      "Tweets: Trump is a pure JOKE Americans cannot let this CLOWN become president … RT Take a break from\n"
     ]
    }
   ],
   "source": [
    "print(\"Tweets: \" + generate_text_backoff(tweets_clean2, [\"Trump\",\"is\",\"a\"], 15))"
   ]
  },
  {
   "cell_type": "markdown",
   "metadata": {},
   "source": [
    "# 2. Speech (Text) Generation\n",
    "\n",
    "For this second part of the notebook, we will also use Text Generation techniques based on historical speeches from different politicians that were previously elected. The output may serve as an initial brainstorming or guideline for speech creation. "
   ]
  },
  {
   "cell_type": "markdown",
   "metadata": {},
   "source": [
    "## Importing Speeches\n",
    "\n",
    "For our speech generation analysis, we will focus our project on two specific topics: Education and Economy. For this, we searched for different speeches related to these topics that will be analyzed individually and in a merged text database. This way, we will be able to generate text based on the speaker and on the topic.\n",
    "\n",
    "### Education Speeches:\n",
    "* **education_speech1:** Full text of Obama’s education speech\n",
    "https://www.denverpost.com/2008/05/28/full-text-of-obamas-education-speech/\n",
    "* **education_speech2:** Compilation small Education Speeches in English.\n",
    "https://www.indiacelebrating.com/speech/importance-of-education-speech/\n",
    "* **education_speech3:** The full text of a speech by the education secretary, Ruth Kelly, to the North of England Education conference in Gateshead\n",
    "https://www.theguardian.com/education/2006/jan/06/schools.uk\n",
    "* **educaion_speech4:** Obama Back To School Speech\n",
    "https://www.huffpost.com/entry/obama-speech-to-schoolchi_n_278763\n",
    "* **education_speech5:** Full Text of Bush's Campaign Speech on Education\n",
    "https://archive.nytimes.com/www.nytimes.com/library/politics/camp/110399wh-gop-bush-text.html\n",
    "* **education_speech6:** Trump quotes about Education\n",
    "https://fordhaminstitute.org/national/commentary/president-donald-trump-quotes-about-education\n",
    "\n",
    "### Economy Speeches\n",
    "* **economy_speech1:** Bill Clinton speech BU Penn\n",
    "https://www.ibiblio.org/nii/econ-posit.html\n",
    "* **economy_speech2:** \"Transforming the British economy: Coalition strategy for economic growth\", Shipley 2010 David cameron\n",
    "http://www.britishpoliticalspeech.org/speech-archive.htm?speech=351\n",
    "* **economy_speech3:** Obama's Speech on the Economy\n",
    "https://www.nytimes.com/2009/01/08/us/politics/08text-obama.html\n",
    "* **economy_speech4:** Donald Trump's Speech on Jobs and the Economy\n",
    "https://time.com/4495507/donald-trump-economy-speech-transcript/\n",
    "* **economy_speech5:** President Bush’s Speech to the Nation on the Economic Crisis\n",
    "https://www.nytimes.com/2008/09/24/business/economy/24text-bush.html\n"
   ]
  },
  {
   "cell_type": "code",
   "execution_count": 1,
   "metadata": {},
   "outputs": [
    {
     "name": "stdout",
     "output_type": "stream",
     "text": [
      "<Text: “ It ’ s an honor to be...>\n",
      "<Text: Good morning to the Excellencies , my respected...>\n",
      "<Text: I am delighted to be here and my...>\n",
      "<Text: Hello everyone - how ’ s everybody doing...>\n",
      "<Text: It is a pleasure to be here ,...>\n",
      "<Text: 1 . School choice : “ As president...>\n"
     ]
    }
   ],
   "source": [
    "import nltk\n",
    "from nltk import word_tokenize, WordPunctTokenizer\n",
    "import pandas\n",
    "\n",
    "wpt = WordPunctTokenizer()\n",
    "\n",
    "education_speech1 = open('education_speech1.txt')\n",
    "education_text1 = education_speech1.read()\n",
    "education_text1 = nltk.Text(wpt.tokenize(education_text1))\n",
    "print(education_text1)\n",
    "\n",
    "education_speech2 = open('education_speech2.txt')\n",
    "education_text2 = education_speech2.read()\n",
    "education_text2 = nltk.Text(wpt.tokenize(education_text2))\n",
    "print(education_text2)\n",
    "\n",
    "education_speech3 = open('education_speech3.txt')\n",
    "education_text3 = education_speech3.read()\n",
    "education_text3 = nltk.Text(wpt.tokenize(education_text3))\n",
    "print(education_text3)\n",
    "\n",
    "education_speech4 = open('education_speech4.txt')\n",
    "education_text4 = education_speech4.read()\n",
    "education_text4 = nltk.Text(wpt.tokenize(education_text4))\n",
    "print(education_text4)\n",
    "\n",
    "education_speech5 = open('education_speech5.txt')\n",
    "education_text5 = education_speech5.read()\n",
    "education_text5 = nltk.Text(wpt.tokenize(education_text5))\n",
    "print(education_text5)\n",
    "\n",
    "education_speech6 = open('education_speech6.txt')\n",
    "education_text6 = education_speech6.read()\n",
    "education_text6 = nltk.Text(wpt.tokenize(education_text6))\n",
    "print(education_text6)\n",
    "\n",
    "filenames = ['education_speech1.txt','education_speech2.txt','education_speech3.txt','education_speech4.txt','education_speech5.txt','education_speech6.txt']\n",
    "\n",
    "education_complete = ''.join([open(f).read() for f in filenames])\n",
    "education_complete = nltk.Text(wpt.tokenize(education_complete))\n"
   ]
  },
  {
   "cell_type": "code",
   "execution_count": 2,
   "metadata": {},
   "outputs": [
    {
     "name": "stdout",
     "output_type": "stream",
     "text": [
      "<Text: As many of you know , I '...>\n",
      "<Text: This is my first major speech as Prime...>\n",
      "<Text: Let me begin by thanking George Mason University...>\n",
      "<Text: Thank you for the opportunity to speak with...>\n",
      "<Text: Good evening . This is an extraordinary period...>\n"
     ]
    }
   ],
   "source": [
    "economy_speech1 = open('economy_speech1.txt')\n",
    "economy_text1 = economy_speech1.read()\n",
    "economy_text1 = nltk.Text(wpt.tokenize(economy_text1))\n",
    "print(economy_text1)\n",
    "\n",
    "economy_speech2 = open('economy_speech2.txt')\n",
    "economy_text2 = economy_speech2.read()\n",
    "economy_text2 = nltk.Text(wpt.tokenize(economy_text2))\n",
    "print(economy_text2)\n",
    "\n",
    "economy_speech3 = open('economy_speech3.txt')\n",
    "economy_text3 = economy_speech3.read()\n",
    "economy_text3 = nltk.Text(wpt.tokenize(economy_text3))\n",
    "print(economy_text3)\n",
    "\n",
    "economy_speech4 = open('economy_speech4.txt')\n",
    "economy_text4 = economy_speech4.read()\n",
    "economy_text4 = nltk.Text(wpt.tokenize(economy_text4))\n",
    "print(economy_text4)\n",
    "\n",
    "economy_speech5 = open('economy_speech5.txt')\n",
    "economy_text5 = economy_speech5.read()\n",
    "economy_text5 = nltk.Text(wpt.tokenize(economy_text5))\n",
    "print(economy_text5)\n",
    "\n",
    "filenames_economy = ['economy_speech1.txt','economy_speech2.txt','economy_speech3.txt','economy_speech4.txt','economy_speech5.txt']\n",
    "\n",
    "economy_complete = ''.join([open(f).read() for f in filenames_economy])\n",
    "economy_complete = nltk.Text(wpt.tokenize(economy_complete))"
   ]
  },
  {
   "cell_type": "markdown",
   "metadata": {},
   "source": [
    "## Generating Speeches\n",
    "\n",
    "### Education\n",
    "\n",
    "To generate text related to the education speech, we found interesting results. If we want to analyze how we can include **women's role** in the speech, we can analyze the different outputs, by imputing \"womens role is\". In the following examples we are getting the next 5 words.\n",
    "\n",
    "* **Compiled text:** From the compiled we can see a message of progress regardin women's role.\n",
    "* **Barak Obama:** An obama based speech generates words related with value.\n",
    "* **Ruth Kelly:** Similar to the text generated with the compiled file, Ruth Kelly generates text related with progress.\n",
    "* **George Bush:** As expected, for George gush the text generated makes no sense at all.\n",
    "* **Donald Trump:** For Donald Trump the text generated may be interpreted as negative and sexist."
   ]
  },
  {
   "cell_type": "code",
   "execution_count": 8,
   "metadata": {
    "scrolled": true
   },
   "outputs": [
    {
     "name": "stdout",
     "output_type": "stream",
     "text": [
      "Speech Obama Education: womens role is the currency of the Information\n",
      "\n",
      "Speech Multiple personalities: womens role is a continuous , slow and\n",
      "\n",
      "Speech Ruth Kelly (England Ed secretary): womens role is a community determined to move\n",
      "\n",
      "Speech Obama back to school: womens role is the first day of school\n",
      "\n",
      "Speech Education Bush Campaign: womens role is a pleasure to be here\n",
      "\n",
      "Speech Trump quotes: womens role is living in poverty . If\n",
      "\n",
      "Speech Education Complete: womens role is a continuous , slow and\n",
      "\n"
     ]
    }
   ],
   "source": [
    "print(\"Speech Obama Education: \" + generate_text_backoff(education_text1, [\"womens\",\"role\",\"is\"], 5) + \"\\n\")\n",
    "print(\"Speech Multiple personalities: \" + generate_text_backoff(education_text2, [\"womens\",\"role\",\"is\"], 5)+ \"\\n\")\n",
    "print(\"Speech Ruth Kelly (England Ed secretary): \" + generate_text_backoff(education_text3, [\"womens\",\"role\",\"is\"], 5)+ \"\\n\")\n",
    "print(\"Speech Obama back to school: \" + generate_text_backoff(education_text4, [\"womens\",\"role\",\"is\"], 5)+ \"\\n\")\n",
    "print(\"Speech Education Bush Campaign: \" + generate_text_backoff(education_text5, [\"womens\",\"role\",\"is\"], 5)+ \"\\n\")\n",
    "print(\"Speech Trump quotes: \" + generate_text_backoff(education_text6, [\"womens\",\"role\",\"is\"], 5)+ \"\\n\")\n",
    "print(\"Speech Education Complete: \" + generate_text_backoff(education_complete, [\"womens\",\"role\",\"is\"], 5)+ \"\\n\")"
   ]
  },
  {
   "cell_type": "markdown",
   "metadata": {},
   "source": [
    "### Economy\n",
    "\n",
    "For the economy speech generation, as an example we will analyze in general terms, what economy is. \n",
    "\n",
    "* **Compiled text:** From the compiled results we can see that economy is \"investing in ourselves\" influenced by Bill Clinton.\n",
    "* **Bill Clinton:** Relates economy with investing with ourselves.\n",
    "* **Dave Cameron:** For the UK primer minister, Economy is dependant of other things.\n",
    "* **Barak Obama:** An obama based speech generates words related with uncertainty.\n",
    "* **Donald Trump:** For Donald Trump, economy is something bold and ambitious.\n",
    "* **George Bush:** As expected for Geourge Bush, considering the recesion in his presidential period, the economy is in danger."
   ]
  },
  {
   "cell_type": "code",
   "execution_count": 9,
   "metadata": {
    "scrolled": true
   },
   "outputs": [
    {
     "name": "stdout",
     "output_type": "stream",
     "text": [
      "Speech Bill CLinton: the economy is investing in ourselves . The\n",
      "\n",
      "Speech David Cameron: the economy is heavily reliant on just a\n",
      "\n",
      "Speech Barak Obama: the economy is now watching and waiting for\n",
      "\n",
      "Speech Donald Trump: the economy is a bold , ambitious ,\n",
      "\n",
      "Speech George Bush : the economy is in danger . So I\n",
      "\n",
      "Speech Economy Complete: the economy is investing in ourselves . The\n",
      "\n"
     ]
    }
   ],
   "source": [
    "print(\"Speech Bill CLinton: \" + generate_text_backoff(economy_text1, [\"the\",\"economy\",\"is\"], 5) + \"\\n\")\n",
    "print(\"Speech David Cameron: \" + generate_text_backoff(economy_text2, [\"the\",\"economy\",\"is\"], 5)+ \"\\n\")\n",
    "print(\"Speech Barak Obama: \" + generate_text_backoff(economy_text3, [\"the\",\"economy\",\"is\"], 5)+ \"\\n\")\n",
    "print(\"Speech Donald Trump: \" + generate_text_backoff(economy_text4, [\"the\",\"economy\",\"is\"], 5)+ \"\\n\")\n",
    "print(\"Speech George Bush : \" + generate_text_backoff(economy_text5, [\"the\",\"economy\",\"is\"], 5)+ \"\\n\")\n",
    "\n",
    "print(\"Speech Economy Complete: \" + generate_text_backoff(economy_complete, [\"the\",\"economy\",\"is\"], 5)+ \"\\n\")"
   ]
  },
  {
   "cell_type": "markdown",
   "metadata": {},
   "source": [
    "# Overall Conclusion"
   ]
  },
  {
   "attachments": {
    "image.png": {
     "image/png": "[encoded data removed]"
    }
   },
   "cell_type": "markdown",
   "metadata": {},
   "source": [
    "Through text generation, we can extract insights related to the topic or keyword we would like to explore. LSTM is a good approach for generating accurate results. However, N-grams probability is also a good approach for generating Tweets and revealing the most probable words that compliment an initial word for forming a sentence. This approach is considerably less computationally expensive versus LSTM but less advanced in terms of the approach and decisions made.\n",
    "\n",
    "N-gram probability is also a good approach for speech generation where we can analyze which may be the most probable subsequent words for different interlocutors. It is important to consider that text generation strongly depends on the input text for training the model. As subsequent steps to enhance the speech generation tool, we would input a bigger repository of speeches of each political celebrity, and increase the repertoire of speakers for a better speech recommender. In addition, we did not model a RNN for speech generation as the size of the data was too big and the tools we were using did not permit us to model a RNN without crashing. \n",
    "\n",
    "As a general conclusion, we can observe from the following image that through the combination of multiple NLP techniques we can thoroughly understand the context of an event and take actions to better transmit persuasive messages to reach a specific goal.\n",
    "\n",
    "![image.png](attachment:image.png)"
   ]
  }
 ],
 "metadata": {
  "kernelspec": {
   "display_name": "Python 3",
   "language": "python",
   "name": "python3"
  },
  "language_info": {
   "codemirror_mode": {
    "name": "ipython",
    "version": 3
   },
   "file_extension": ".py",
   "mimetype": "text/x-python",
   "name": "python",
   "nbconvert_exporter": "python",
   "pygments_lexer": "ipython3",
   "version": "3.7.1"
  }
 },
 "nbformat": 4,
 "nbformat_minor": 2
}
